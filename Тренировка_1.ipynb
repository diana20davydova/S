{
  "nbformat": 4,
  "nbformat_minor": 0,
  "metadata": {
    "colab": {
      "provenance": []
    },
    "kernelspec": {
      "name": "python3",
      "display_name": "Python 3"
    },
    "language_info": {
      "name": "python"
    }
  },
  "cells": [
    {
      "cell_type": "code",
      "source": [
        "import math"
      ],
      "metadata": {
        "id": "w2L6Fjgjghtm"
      },
      "execution_count": null,
      "outputs": []
    },
    {
      "cell_type": "code",
      "source": [
        "a=5\n",
        "b=2\n",
        "print (a + b) #сложение\n",
        "print (a - b) #вычитание\n",
        "print (a * b) #умножение\n",
        "print (a / b) #деление\n"
      ],
      "metadata": {
        "colab": {
          "base_uri": "https://localhost:8080/"
        },
        "id": "wrXisyk_g0wJ",
        "outputId": "197f890c-0b7e-4c72-a48d-fbaff4ab984d"
      },
      "execution_count": null,
      "outputs": [
        {
          "output_type": "stream",
          "name": "stdout",
          "text": [
            "7\n",
            "3\n",
            "10\n",
            "2.5\n"
          ]
        }
      ]
    },
    {
      "cell_type": "code",
      "source": [
        "a=5\n",
        "b=2\n",
        "print (a > b) #больше\n",
        "print (a < b) #меньше\n",
        "print (a == b) #равно\n",
        "print (a != b) #не равно"
      ],
      "metadata": {
        "colab": {
          "base_uri": "https://localhost:8080/"
        },
        "id": "7i7FIKHSh1jI",
        "outputId": "b55ce90f-39e9-4202-8ac3-542ea1b78e68"
      },
      "execution_count": null,
      "outputs": [
        {
          "output_type": "stream",
          "name": "stdout",
          "text": [
            "True\n",
            "False\n",
            "False\n",
            "True\n"
          ]
        }
      ]
    },
    {
      "cell_type": "code",
      "source": [
        "print (\"Hello! My name is Diana Davydova!\") #вывод строки\n",
        "x = input (\"Введите число:\") #ввод данных\n",
        "print (\"Вы ввели число\" + x) #ввод строки с переменной\n"
      ],
      "metadata": {
        "colab": {
          "base_uri": "https://localhost:8080/"
        },
        "id": "7INC7EElignp",
        "outputId": "2a09d00a-8b88-4a2c-a27d-6af051deb379"
      },
      "execution_count": null,
      "outputs": [
        {
          "output_type": "stream",
          "name": "stdout",
          "text": [
            "Hello! My name is Diana Davydova!\n",
            "Введите число:7\n",
            "Вы ввели число7\n"
          ]
        }
      ]
    }
  ]
}